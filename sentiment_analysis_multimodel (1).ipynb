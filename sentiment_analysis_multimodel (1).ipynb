{
 "cells": [
  {
   "cell_type": "code",
   "execution_count": 2,
   "id": "bf2efe82",
   "metadata": {},
   "outputs": [
    {
     "name": "stdout",
     "output_type": "stream",
     "text": [
      "WARNING:tensorflow:From C:\\Users\\AVIGHYAT\\AppData\\Roaming\\Python\\Python311\\site-packages\\keras\\src\\backend.py:1398: The name tf.executing_eagerly_outside_functions is deprecated. Please use tf.compat.v1.executing_eagerly_outside_functions instead.\n",
      "\n",
      "WARNING:tensorflow:From C:\\Users\\AVIGHYAT\\AppData\\Roaming\\Python\\Python311\\site-packages\\keras\\src\\layers\\pooling\\max_pooling2d.py:161: The name tf.nn.max_pool is deprecated. Please use tf.nn.max_pool2d instead.\n",
      "\n"
     ]
    }
   ],
   "source": [
    "import joblib\n",
    "import numpy as np\n",
    "import tensorflow as tf\n",
    "from PIL import Image\n",
    "from tensorflow.keras import layers, models\n",
    "from sklearn.feature_extraction.text import TfidfVectorizer\n",
    "\n",
    "# Assuming your text model is saved as 'text_model.joblib'\n",
    "text_model = joblib.load('rf_text_sentimodel.joblib')\n",
    "\n",
    "# Load the image model (CNN) - ensure the file path is correct\n",
    "image_model = tf.keras.models.load_model('Senti_img.h5')\n",
    "\n",
    "# Assuming the test set for images is under 'test_dir' and the test images are of grayscale\n",
    "test_dir = r'C:\\Users\\AVIGHYAT\\OneDrive\\Documents\\2nd year 1st sem\\Statistical ML\\datasets\\senti_img\\test'\n",
    "\n",
    "# Define a mapping from image classes to text classes\n",
    "image_class_mapping = {\n",
    "    'angry': 2,  # Map to Anger in text model\n",
    "    'disgusted': 2,  # Map to Anger in text model\n",
    "    'fearful': 3,  # Map to Fear in text model\n",
    "    'happy': 0,  # Map to Joy in text model\n",
    "    'neutral': 4,  # Neutral\n",
    "    'sad': 1,  # Map to Sadness in text model\n",
    "    'surprised': 5   # Map to Surprise in text model\n",
    "}\n"
   ]
  },
  {
   "cell_type": "code",
   "execution_count": 3,
   "id": "d849cc32",
   "metadata": {},
   "outputs": [],
   "source": [
    "# Function to preprocess images for the image model\n",
    "def preprocess_image(image_path):\n",
    "    # Load image from path\n",
    "    img = Image.open(image_path)\n",
    "    \n",
    "    # Resize to 48x48 pixels (as expected by the model)\n",
    "    img = img.resize((48, 48))\n",
    "    \n",
    "    # Convert to grayscale\n",
    "    img = img.convert('L')\n",
    "    \n",
    "    # Convert image to NumPy array and normalize pixel values\n",
    "    img_array = np.array(img) / 255.0\n",
    "    \n",
    "    # Add batch dimension\n",
    "    img_array = img_array.reshape((1, 48, 48, 1))\n",
    "    \n",
    "    return img_array\n"
   ]
  },
  {
   "cell_type": "code",
   "execution_count": 20,
   "id": "b8da1372",
   "metadata": {},
   "outputs": [],
   "source": [
    "def predict_sentiment(text, image_path):\n",
    "    # Load the TfidfVectorizer used to train the text model\n",
    "    vectorizer = joblib.load('tfidf_vectorizer.joblib')\n",
    "    \n",
    "    # Transform text input to match expected input size\n",
    "    text_vector = vectorizer.transform([text]).toarray()\n",
    "    \n",
    "    # Text prediction using the text model\n",
    "    text_prediction = text_model.predict_proba(text_vector)[0]\n",
    "    print(f\"Text prediction probabilities: {text_prediction}\")  # Debugging: Print text prediction\n",
    "    \n",
    "    # Image prediction using the image model\n",
    "    image_features = preprocess_image(image_path)\n",
    "    image_prediction = image_model.predict(image_features)[0]\n",
    "    print(f\"Image prediction probabilities: {image_prediction}\")  # Debugging: Print image prediction\n",
    "    \n",
    "    # Map image prediction to the correct class (according to mapping dictionary)\n",
    "    predicted_class_index = np.argmax(image_prediction)\n",
    "    image_class = list(image_class_mapping.keys())[predicted_class_index]\n",
    "    image_class_index = image_class_mapping[image_class]\n",
    "    print(f\"Mapped image class: {image_class}, Index: {image_class_index}\")  # Debugging\n",
    "    \n",
    "    # Combine text and image predictions using weighting\n",
    "    weights = [0.5, 0.5]  # Adjust weights as needed\n",
    "    final_prediction = (weights[0] * text_prediction + weights[1] * image_class_index)\n",
    "    print(f\"Combined prediction: {final_prediction}\")  # Debugging\n",
    "    \n",
    "    return final_prediction\n"
   ]
  },
  {
   "cell_type": "code",
   "execution_count": 21,
   "id": "01442d5b",
   "metadata": {},
   "outputs": [
    {
     "name": "stdout",
     "output_type": "stream",
     "text": [
      "Text prediction probabilities: [0.01 0.76 0.   0.16 0.07 0.  ]\n",
      "1/1 [==============================] - 0s 23ms/step\n",
      "Image prediction probabilities: [8.7834787e-01 1.6241395e-04 1.2091521e-01 6.7586021e-05 1.7928953e-05\n",
      " 7.5910561e-05 4.1303044e-04]\n",
      "Mapped image class: angry, Index: 2\n",
      "Combined prediction: [1.005 1.38  1.    1.08  1.035 1.   ]\n",
      "Predicted Sentiment: Sadness\n"
     ]
    }
   ],
   "source": [
    "# Example usage of the predict_sentiment function\n",
    "text = \"This movie was fantastic!\"\n",
    "image_path = r\"C:\\Users\\AVIGHYAT\\OneDrive\\Documents\\2nd year 1st sem\\Statistical ML\\datasets\\senti_img\\test\\angry\\im3.png\"\n",
    "\n",
    "# Predict sentiment\n",
    "sentiment = predict_sentiment(text, image_path)\n",
    "\n",
    "# Map numerical sentiment to sentiment labels\n",
    "sentiment_labels = {0: \"Joy\", 1: \"Sadness\", 2: \"Anger\", 3: \"Fear\", 4: \"Neutral\", 5: \"Surprise\"}\n",
    "\n",
    "# Print the predicted sentiment\n",
    "print(\"Predicted Sentiment:\", sentiment_labels[np.argmax(sentiment)])\n"
   ]
  },
  {
   "cell_type": "code",
   "execution_count": null,
   "id": "2c2f4fda",
   "metadata": {},
   "outputs": [],
   "source": []
  }
 ],
 "metadata": {
  "kernelspec": {
   "display_name": "Python 3 (ipykernel)",
   "language": "python",
   "name": "python3"
  },
  "language_info": {
   "codemirror_mode": {
    "name": "ipython",
    "version": 3
   },
   "file_extension": ".py",
   "mimetype": "text/x-python",
   "name": "python",
   "nbconvert_exporter": "python",
   "pygments_lexer": "ipython3",
   "version": "3.11.3"
  }
 },
 "nbformat": 4,
 "nbformat_minor": 5
}
